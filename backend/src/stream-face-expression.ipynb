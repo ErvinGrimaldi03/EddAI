{
 "cells": [
  {
   "cell_type": "code",
   "execution_count": 1,
   "metadata": {
    "collapsed": true,
    "ExecuteTime": {
     "end_time": "2023-06-18T03:59:32.420783800Z",
     "start_time": "2023-06-18T03:59:32.231585300Z"
    }
   },
   "outputs": [
    {
     "ename": "ModuleNotFoundError",
     "evalue": "No module named 'utilities'",
     "output_type": "error",
     "traceback": [
      "\u001B[1;31m---------------------------------------------------------------------------\u001B[0m",
      "\u001B[1;31mModuleNotFoundError\u001B[0m                       Traceback (most recent call last)",
      "Cell \u001B[1;32mIn[1], line 4\u001B[0m\n\u001B[0;32m      1\u001B[0m \u001B[38;5;28;01mimport\u001B[39;00m \u001B[38;5;21;01masyncio\u001B[39;00m\n\u001B[0;32m      2\u001B[0m \u001B[38;5;28;01mimport\u001B[39;00m \u001B[38;5;21;01mtraceback\u001B[39;00m\n\u001B[1;32m----> 4\u001B[0m \u001B[38;5;28;01mfrom\u001B[39;00m \u001B[38;5;21;01mutilities\u001B[39;00m \u001B[38;5;28;01mimport\u001B[39;00m download_file, print_emotions\n\u001B[0;32m      6\u001B[0m \u001B[38;5;28;01mfrom\u001B[39;00m \u001B[38;5;21;01mhume\u001B[39;00m \u001B[38;5;28;01mimport\u001B[39;00m HumeStreamClient\n\u001B[0;32m      7\u001B[0m \u001B[38;5;28;01mfrom\u001B[39;00m \u001B[38;5;21;01mhume\u001B[39;00m\u001B[38;5;21;01m.\u001B[39;00m\u001B[38;5;21;01mmodels\u001B[39;00m\u001B[38;5;21;01m.\u001B[39;00m\u001B[38;5;21;01mconfig\u001B[39;00m \u001B[38;5;28;01mimport\u001B[39;00m FaceConfig\n",
      "\u001B[1;31mModuleNotFoundError\u001B[0m: No module named 'utilities'"
     ]
    }
   ],
   "source": [
    "import asyncio\n",
    "import traceback\n",
    "\n",
    "from utilities import download_file, print_emotions\n",
    "\n",
    "from hume import HumeStreamClient\n",
    "from hume.models.config import FaceConfig"
   ]
  },
  {
   "cell_type": "code",
   "execution_count": null,
   "outputs": [],
   "source": [
    "filepath = download_file(\"https://storage.googleapis.com/hume-test-data/image/obama.png\")\n",
    "\n",
    "async def main():\n",
    "    try:\n",
    "        client = HumeStreamClient(\"<your-api-key>\")\n",
    "\n",
    "        # Enable face identification to track unique faces over the streaming session\n",
    "        config = FaceConfig(identify_faces=True)\n",
    "        async with client.connect([config]) as socket:\n",
    "            result = await socket.send_file(filepath)\n",
    "            emotions = result[\"face\"][\"predictions\"][0][\"emotions\"]\n",
    "            print_emotions(emotions)\n",
    "    except Exception:\n",
    "        print(traceback.format_exc())\n",
    "\n",
    "# When running the streaming API outside of a Jupyter notebook you do not need these lines.\n",
    "# Jupyter has its own async event loop, so this merges main into the Jupyter event loop.\n",
    "# To run this sample in a script with asyncio you can use `asyncio.run(main())`\n",
    "loop = asyncio.get_event_loop()\n",
    "loop.create_task(main())"
   ],
   "metadata": {
    "collapsed": false
   }
  }
 ],
 "metadata": {
  "kernelspec": {
   "display_name": "Python 3",
   "language": "python",
   "name": "python3"
  },
  "language_info": {
   "codemirror_mode": {
    "name": "ipython",
    "version": 2
   },
   "file_extension": ".py",
   "mimetype": "text/x-python",
   "name": "python",
   "nbconvert_exporter": "python",
   "pygments_lexer": "ipython2",
   "version": "2.7.6"
  }
 },
 "nbformat": 4,
 "nbformat_minor": 0
}
